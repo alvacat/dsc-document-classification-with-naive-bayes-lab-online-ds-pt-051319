{
 "cells": [
  {
   "cell_type": "markdown",
   "metadata": {},
   "source": [
    "# Document Classification with Naive Bayes - Lab\n",
    "\n",
    "## Introduction\n",
    "\n",
    "In this lecture, you'll practice implementing the Naive Bayes algorithm on your own.\n",
    "\n",
    "## Objectives\n",
    "\n",
    "You will be able to:  \n",
    "\n",
    "* Implement document classification using Naive Bayes\n",
    "* Understand the need for the Laplacian smoothing correction\n",
    "* Explain how to code a bag of words representation"
   ]
  },
  {
   "cell_type": "markdown",
   "metadata": {},
   "source": [
    "## Import the Dataset\n",
    "\n",
    "To start, import the dataset stored in the text file `SMSSpamCollection`."
   ]
  },
  {
   "cell_type": "code",
   "execution_count": 27,
   "metadata": {
    "scrolled": false
   },
   "outputs": [
    {
     "data": {
      "text/html": [
       "<div>\n",
       "<style scoped>\n",
       "    .dataframe tbody tr th:only-of-type {\n",
       "        vertical-align: middle;\n",
       "    }\n",
       "\n",
       "    .dataframe tbody tr th {\n",
       "        vertical-align: top;\n",
       "    }\n",
       "\n",
       "    .dataframe thead th {\n",
       "        text-align: right;\n",
       "    }\n",
       "</style>\n",
       "<table border=\"1\" class=\"dataframe\">\n",
       "  <thead>\n",
       "    <tr style=\"text-align: right;\">\n",
       "      <th></th>\n",
       "      <th>label</th>\n",
       "      <th>text</th>\n",
       "    </tr>\n",
       "  </thead>\n",
       "  <tbody>\n",
       "    <tr>\n",
       "      <th>0</th>\n",
       "      <td>ham</td>\n",
       "      <td>Go until jurong point, crazy.. Available only ...</td>\n",
       "    </tr>\n",
       "    <tr>\n",
       "      <th>1</th>\n",
       "      <td>ham</td>\n",
       "      <td>Ok lar... Joking wif u oni...</td>\n",
       "    </tr>\n",
       "    <tr>\n",
       "      <th>2</th>\n",
       "      <td>spam</td>\n",
       "      <td>Free entry in 2 a wkly comp to win FA Cup fina...</td>\n",
       "    </tr>\n",
       "    <tr>\n",
       "      <th>3</th>\n",
       "      <td>ham</td>\n",
       "      <td>U dun say so early hor... U c already then say...</td>\n",
       "    </tr>\n",
       "    <tr>\n",
       "      <th>4</th>\n",
       "      <td>ham</td>\n",
       "      <td>Nah I don't think he goes to usf, he lives aro...</td>\n",
       "    </tr>\n",
       "  </tbody>\n",
       "</table>\n",
       "</div>"
      ],
      "text/plain": [
       "  label                                               text\n",
       "0   ham  Go until jurong point, crazy.. Available only ...\n",
       "1   ham                      Ok lar... Joking wif u oni...\n",
       "2  spam  Free entry in 2 a wkly comp to win FA Cup fina...\n",
       "3   ham  U dun say so early hor... U c already then say...\n",
       "4   ham  Nah I don't think he goes to usf, he lives aro..."
      ]
     },
     "execution_count": 27,
     "metadata": {},
     "output_type": "execute_result"
    }
   ],
   "source": [
    "#Your code here\n",
    "import pandas as pd\n",
    "df=pd.read_csv('SMSSpamCollection',sep='\\t',names=['label','text'])\n",
    "df.head()"
   ]
  },
  {
   "cell_type": "markdown",
   "metadata": {},
   "source": [
    "## Account for Class Imbalance\n",
    "\n",
    "To help your algorithm perform more accurately, subset the dataset so that the two classes are of equal size. To do this, keep all of the instances of the minority class (spam) and subset examples of the majority class (ham) to an equal number of examples."
   ]
  },
  {
   "cell_type": "code",
   "execution_count": 28,
   "metadata": {},
   "outputs": [
    {
     "data": {
      "text/plain": [
       "ham     4825\n",
       "spam     747\n",
       "Name: label, dtype: int64"
      ]
     },
     "execution_count": 28,
     "metadata": {},
     "output_type": "execute_result"
    }
   ],
   "source": [
    "#Your code here\n",
    "import numpy as np\n",
    "df.label.value_counts()"
   ]
  },
  {
   "cell_type": "code",
   "execution_count": 29,
   "metadata": {},
   "outputs": [
    {
     "data": {
      "text/plain": [
       "array([1358, 4380,  683, 5033, 2636,  203, 2142, 3569,  587, 3353, 3416,\n",
       "       1517,  883, 4201, 2134, 5411, 3691,  617, 3373, 5166, 2819, 1610,\n",
       "       3323, 4605, 2388,   29,   76, 5291, 3960, 2793,  873, 3404, 4095,\n",
       "       3292, 4740,   38, 3137,  959, 4511, 4637,  746,  925, 5094, 3769,\n",
       "       5313, 1403, 3158, 4477, 1186,  392, 3612, 2971, 1273, 4343,  776,\n",
       "       4158, 1922, 1185, 3580, 1871, 3020,   69,  152, 3843, 5128, 3019,\n",
       "       5208, 4892, 4358,  391, 5025, 5276,  895, 1955, 3505, 3350, 3162,\n",
       "       4472, 3809, 3566, 2673, 3693, 5273, 2239, 4843, 2410, 1817,  631,\n",
       "        269, 4884, 3946, 1883,  519, 1919,  679, 3541, 1465,  933, 3787,\n",
       "       4529, 4528, 5203,   90, 2643, 1863, 1543, 4363, 4045, 3263, 3140,\n",
       "        989, 4419, 2913,  997, 3928, 1676, 4049, 3943, 1109, 5367, 1497,\n",
       "       4560, 1561,  708, 5480, 4509, 1323, 2762, 3482, 2842, 3657, 3749,\n",
       "       2051, 4421, 2861, 1600, 4757, 2412, 3859, 4523, 1696, 5134, 2520,\n",
       "        691, 2338, 1844, 1195,   22, 4689, 2303,  634, 1616, 1206, 5541,\n",
       "        595, 1703, 2131,  461, 2960, 2517, 5051, 3588, 3697, 2532, 2657,\n",
       "       1185,   46, 4286, 4142, 2868, 2384, 2321, 3616, 3607, 2936, 3234,\n",
       "       1813, 4594, 1622,   69, 1320, 2008,  192, 4787, 4161, 1499, 2068,\n",
       "       1067, 1010,  253,  317,  201, 1716, 4970, 1912, 3550,  625,  332,\n",
       "        721, 2082, 1184, 1088, 1786, 2675, 1495, 4273, 5187, 2144, 3221,\n",
       "       5531, 1155, 4238, 3340, 4770, 5045, 2506, 4593, 1832,   82, 1776,\n",
       "       2494, 3416, 2732, 3254, 4234, 5156, 3701,   87,  846, 3843, 3458,\n",
       "       4017,  351, 5475, 4006, 4327, 2890, 4478, 2816,  940, 5388, 5347,\n",
       "       4778, 1418, 3404, 2550, 2607, 2197, 2110, 3279, 1317, 2453, 2974,\n",
       "        393, 1842, 3448, 2091, 4353, 5000, 3199, 1141, 3341, 3147, 4791,\n",
       "       3129, 5309, 2399, 1416, 4625, 2323, 5265, 1681, 5158, 1556, 4008,\n",
       "       5261,  978, 4832, 1270,  558, 3175, 4784, 5360, 3452, 1124,   52,\n",
       "        202,  828, 2002, 5470, 3484, 4310, 3691,  554, 3119, 5211, 3850,\n",
       "       1794, 5056,  978, 1450, 1862, 4703,  468,   35, 4322, 4328, 4393,\n",
       "       3399, 4764,  666,  577, 3331, 1055, 2684, 3017, 4859, 4612,  215,\n",
       "       4187, 1261, 1403,   70, 3822, 3239, 3117, 1487, 3216, 4867, 5419,\n",
       "         17, 1890, 4679, 5289, 2090, 4660, 3643, 4312, 3511, 5450, 2453,\n",
       "       4301, 5069, 4556, 4141, 2228, 3279, 2989,  251, 2600,  255, 5320,\n",
       "        446,  577,  778, 3519, 3511, 4039,  327, 2036, 2446, 3201, 1843,\n",
       "       1727, 3673, 2764, 2474, 2101, 5089, 1484, 3648,  540, 4886, 1054,\n",
       "        969, 5486, 3858, 3047, 3226, 4624,  138, 2544, 2325, 3702, 5383,\n",
       "       1479,  740, 4317, 1771, 3570, 4207, 4599, 5414, 1226, 1722, 2106,\n",
       "       4119, 4043, 1593,  783, 3550,  288,  199, 3352, 4564, 2323, 4239,\n",
       "        153, 5371, 5383,  949, 2454,  644, 3546, 2909, 5463, 1612, 4326,\n",
       "       3106, 2701, 2414, 3630, 4590, 4463, 3502, 2733, 1130, 4218, 3779,\n",
       "       2892, 4044, 3058, 2539,  769, 3154, 3194, 4925, 5129, 4232, 2513,\n",
       "       3880, 4758,  409,  130, 2570, 1028, 5402, 2726, 2537,  325,  201,\n",
       "       2171, 3375,  295,  544,  193, 4288, 3435, 3467, 2177, 3248, 3651,\n",
       "        617, 1833, 1994,  712, 1578, 3396, 4980, 4553, 1526, 3616,  320,\n",
       "       3648, 4397, 1135, 1379, 1470,  325, 4498, 3163, 1156, 4123, 3000,\n",
       "       1935, 1066, 1100,  793, 2337, 4209, 2369, 2506, 5038, 5337, 5054,\n",
       "       4680,  979, 2136, 4380, 5379, 4365,  271, 4143, 2838, 1486, 1139,\n",
       "       2395, 1923, 1429, 4361, 5000, 1802, 3812, 3453, 4518, 1115, 1534,\n",
       "        695, 4787, 4890, 3457, 4878, 5392, 1057,  295, 4516, 3873, 2087,\n",
       "       5405, 4482, 4159,  606, 1664,  773, 1600, 3281, 3364, 4480, 4034,\n",
       "        472, 5470, 4350, 3489, 2185,  229, 3761,  287, 3912,  906, 2907,\n",
       "       5163, 3950, 2944,  394, 3038, 3165, 3868, 3558, 3686, 1482, 4002,\n",
       "       3584, 4353, 1298,  348, 3536, 3670, 2513, 2981,  337, 4659, 4624,\n",
       "       1543, 1652,  864, 1847,  772, 4678, 1677, 5297, 4484, 4988, 2644,\n",
       "       3107, 5330, 3257, 4363, 3346, 3592, 2096, 2630, 3240, 2697, 1755,\n",
       "       5203, 3116, 4351, 1369,  498, 2021,  426, 3158, 3691, 5065, 1601,\n",
       "       1931,  148, 1182,  108, 1340, 1081, 3287, 1416,  915,   25, 4633,\n",
       "       5045,   71,  631, 1758, 3162,  985, 1909, 2377, 5558, 3221, 1198,\n",
       "        391, 1795, 5165, 3576,  971, 1879, 4861, 1321,  107,  322, 2613,\n",
       "       1991, 2676,  258, 3927, 1485, 1719, 2088, 3160, 2260, 4554, 4216,\n",
       "       3281, 2930, 4182,  896, 1034, 4813, 4980, 2523, 5484, 4267, 4644,\n",
       "       4614, 4317, 3452, 3359, 2856, 1784, 3148, 3121,  847, 3751, 1936,\n",
       "         13,   91, 2946, 2228,  132, 3947, 4266, 2114, 1253, 4947, 3367,\n",
       "       2009,  558, 3323, 3205, 2459, 2550, 2724, 4644,  722,  795, 4098,\n",
       "       3696, 4617, 5191, 2718, 1043,  511, 2009,  873, 4727, 3387, 3086,\n",
       "       3818,  141, 1299, 5081,  107, 2534, 1641, 4259, 2904, 1643, 5139,\n",
       "       1612, 2154, 1272,  662, 5038, 4990, 4146, 1941,  432, 3072, 4995,\n",
       "       3765, 2164, 4435, 1974, 4507, 4240, 4087,  443, 1883,  847,  762,\n",
       "       5010, 5355,  776, 1553, 1345,  739,   69, 5430, 4779, 4529],\n",
       "      dtype=int64)"
      ]
     },
     "execution_count": 29,
     "metadata": {},
     "output_type": "execute_result"
    }
   ],
   "source": [
    "ham_df=df.loc[df.label=='ham']\n",
    "ham_indices=np.random.choice(ham_df.index,747)\n",
    "ham_indices"
   ]
  },
  {
   "cell_type": "code",
   "execution_count": 30,
   "metadata": {},
   "outputs": [
    {
     "data": {
      "text/plain": [
       "747"
      ]
     },
     "execution_count": 30,
     "metadata": {},
     "output_type": "execute_result"
    }
   ],
   "source": [
    "spam_subset=df.loc[df.label=='spam']\n",
    "ham_subset=df.iloc[ham_indices]\n",
    "len(ham_subset)"
   ]
  },
  {
   "cell_type": "code",
   "execution_count": 31,
   "metadata": {
    "scrolled": true
   },
   "outputs": [
    {
     "data": {
      "text/html": [
       "<div>\n",
       "<style scoped>\n",
       "    .dataframe tbody tr th:only-of-type {\n",
       "        vertical-align: middle;\n",
       "    }\n",
       "\n",
       "    .dataframe tbody tr th {\n",
       "        vertical-align: top;\n",
       "    }\n",
       "\n",
       "    .dataframe thead th {\n",
       "        text-align: right;\n",
       "    }\n",
       "</style>\n",
       "<table border=\"1\" class=\"dataframe\">\n",
       "  <thead>\n",
       "    <tr style=\"text-align: right;\">\n",
       "      <th></th>\n",
       "      <th>label</th>\n",
       "      <th>text</th>\n",
       "    </tr>\n",
       "  </thead>\n",
       "  <tbody>\n",
       "    <tr>\n",
       "      <th>1358</th>\n",
       "      <td>ham</td>\n",
       "      <td>Good afternoon loverboy ! How goes you day ? A...</td>\n",
       "    </tr>\n",
       "    <tr>\n",
       "      <th>4380</th>\n",
       "      <td>ham</td>\n",
       "      <td>How are you. Just checking up on you</td>\n",
       "    </tr>\n",
       "    <tr>\n",
       "      <th>683</th>\n",
       "      <td>ham</td>\n",
       "      <td>Is xy going 4 e lunch?</td>\n",
       "    </tr>\n",
       "    <tr>\n",
       "      <th>5033</th>\n",
       "      <td>ham</td>\n",
       "      <td>Ok i vl..do u know i got adsense approved..</td>\n",
       "    </tr>\n",
       "    <tr>\n",
       "      <th>2636</th>\n",
       "      <td>ham</td>\n",
       "      <td>Tiwary to rcb.battle between bang and kochi.</td>\n",
       "    </tr>\n",
       "  </tbody>\n",
       "</table>\n",
       "</div>"
      ],
      "text/plain": [
       "     label                                               text\n",
       "1358   ham  Good afternoon loverboy ! How goes you day ? A...\n",
       "4380   ham               How are you. Just checking up on you\n",
       "683    ham                             Is xy going 4 e lunch?\n",
       "5033   ham        Ok i vl..do u know i got adsense approved..\n",
       "2636   ham       Tiwary to rcb.battle between bang and kochi."
      ]
     },
     "execution_count": 31,
     "metadata": {},
     "output_type": "execute_result"
    }
   ],
   "source": [
    "new_df=ham_subset.append(spam_subset)\n",
    "new_df.head()"
   ]
  },
  {
   "cell_type": "code",
   "execution_count": 32,
   "metadata": {},
   "outputs": [
    {
     "data": {
      "text/plain": [
       "ham     747\n",
       "spam    747\n",
       "Name: label, dtype: int64"
      ]
     },
     "execution_count": 32,
     "metadata": {},
     "output_type": "execute_result"
    }
   ],
   "source": [
    "new_df.label.value_counts()"
   ]
  },
  {
   "cell_type": "markdown",
   "metadata": {},
   "source": [
    "## Train - Test Split\n",
    "\n",
    "Now implement a train test split on your dataset."
   ]
  },
  {
   "cell_type": "code",
   "execution_count": 33,
   "metadata": {},
   "outputs": [],
   "source": [
    "from sklearn.model_selection import train_test_split\n",
    "x=new_df.drop('label',axis=1)\n",
    "y=new_df.label\n",
    "x_train, x_test, y_train, y_test = train_test_split(x, y, test_size = 0.2)"
   ]
  },
  {
   "cell_type": "markdown",
   "metadata": {},
   "source": [
    "## Create the Word Frequency Dictionary for Each Class\n",
    "\n",
    "Create a word frequency dictionary for each class."
   ]
  },
  {
   "cell_type": "code",
   "execution_count": 40,
   "metadata": {
    "scrolled": false
   },
   "outputs": [],
   "source": [
    "train_df=x_train.join(y_train)\n",
    "test_df=x_test.join(y_test)\n",
    "\n",
    "class_word_freq = {}\n",
    "classes = train_df.label.unique()\n",
    "for class_ in classes:\n",
    "    temp_df = train_df[train_df.label==class_]\n",
    "    bag = {}\n",
    "    for row in temp_df.index:\n",
    "        doc = str(temp_df['text'][row])\n",
    "        for word in doc.split():\n",
    "            bag[word] = bag.get(word, 0) + 1\n",
    "    class_word_freq[class_] = bag"
   ]
  },
  {
   "cell_type": "markdown",
   "metadata": {},
   "source": [
    "## Count the Total Corpus Words\n",
    "Calculate V, the total number of words in the corpus."
   ]
  },
  {
   "cell_type": "code",
   "execution_count": 55,
   "metadata": {},
   "outputs": [
    {
     "data": {
      "text/plain": [
       "6206"
      ]
     },
     "execution_count": 55,
     "metadata": {},
     "output_type": "execute_result"
    }
   ],
   "source": [
    "#Your code here\n",
    "all_the_words=set(list(class_word_freq['spam'].keys())+list(class_word_freq['ham'].keys()))\n",
    "V=len(all_the_words)\n",
    "V"
   ]
  },
  {
   "cell_type": "markdown",
   "metadata": {},
   "source": [
    "## Create a Bag of Words Function\n",
    "\n",
    "Before implementing the entire Naive Bayes algorithm, create a helper function `bag_it()` to create a bag of words representation from a document's text."
   ]
  },
  {
   "cell_type": "code",
   "execution_count": 57,
   "metadata": {},
   "outputs": [],
   "source": [
    "#Your code here\n",
    "def bag_it(doc):\n",
    "    bag = {}\n",
    "    for word in doc.split():\n",
    "        bag[word] = bag.get(word, 0) + 1\n",
    "    return bag"
   ]
  },
  {
   "cell_type": "markdown",
   "metadata": {},
   "source": [
    "## Implementing Naive Bayes\n",
    "\n",
    "Now, implement a master function to build a naive Bayes classifier. Be sure to use the logarithmic probabilities to avoid underflow."
   ]
  },
  {
   "cell_type": "code",
   "execution_count": 58,
   "metadata": {},
   "outputs": [],
   "source": [
    "#Your code here\n",
    "def classify_doc(doc, class_word_freq, p_classes, V, return_posteriors=False):\n",
    "    bag = bag_it(doc)\n",
    "    classes = []\n",
    "    posteriors = []\n",
    "    for class_ in class_word_freq.keys():\n",
    "        p = p_classes[class_]\n",
    "        for word in bag.keys():\n",
    "            num = bag[word]+1\n",
    "            denom = class_word_freq[class_].get(word, 0) + V\n",
    "            p += np.log(num/denom)\n",
    "        classes.append(class_)\n",
    "        posteriors.append(p)\n",
    "    if return_posteriors:\n",
    "        print(posteriors)\n",
    "    return classes[np.argmax(posteriors)]"
   ]
  },
  {
   "cell_type": "markdown",
   "metadata": {},
   "source": [
    "## Test Out Your Classifier\n",
    "\n",
    "Finally, test out your classifier and measure its accuracy. Don't be perturbed if your results are sub-par; industry use cases would require substantial additional preprocessing before implementing the algorithm in practice."
   ]
  },
  {
   "cell_type": "code",
   "execution_count": 61,
   "metadata": {},
   "outputs": [
    {
     "name": "stdout",
     "output_type": "stream",
     "text": [
      "[-191.17102408855166, -191.03073238361236]\n"
     ]
    },
    {
     "data": {
      "text/plain": [
       "'ham'"
      ]
     },
     "execution_count": 61,
     "metadata": {},
     "output_type": "execute_result"
    }
   ],
   "source": [
    "#Your Code here\n",
    "p_classes = dict(train_df.label.value_counts(normalize=True))\n",
    "classify_doc(train_df.iloc[0]['text'], class_word_freq, p_classes , V, return_posteriors=True)"
   ]
  },
  {
   "cell_type": "code",
   "execution_count": 68,
   "metadata": {
    "scrolled": true
   },
   "outputs": [
    {
     "data": {
      "text/plain": [
       "False    0.702929\n",
       "True     0.297071\n",
       "dtype: float64"
      ]
     },
     "execution_count": 68,
     "metadata": {},
     "output_type": "execute_result"
    }
   ],
   "source": [
    "y_hat_train = x_train.text.map(lambda x: classify_doc(x, class_word_freq, p_classes, V))\n",
    "residuals = y_train == y_hat_train\n",
    "residuals.value_counts(normalize=True)"
   ]
  },
  {
   "cell_type": "markdown",
   "metadata": {},
   "source": [
    "## Level-Up\n",
    "\n",
    "Rework your code into an appropriate class structure so that you could easily implement the algorithm on any given dataset."
   ]
  },
  {
   "cell_type": "markdown",
   "metadata": {},
   "source": [
    "## Summary\n",
    "\n",
    "Well done! In this lab, you practiced implementing Naive Bayes for document classification!"
   ]
  }
 ],
 "metadata": {
  "kernelspec": {
   "display_name": "Python 3",
   "language": "python",
   "name": "python3"
  },
  "language_info": {
   "codemirror_mode": {
    "name": "ipython",
    "version": 3
   },
   "file_extension": ".py",
   "mimetype": "text/x-python",
   "name": "python",
   "nbconvert_exporter": "python",
   "pygments_lexer": "ipython3",
   "version": "3.7.3"
  }
 },
 "nbformat": 4,
 "nbformat_minor": 2
}
